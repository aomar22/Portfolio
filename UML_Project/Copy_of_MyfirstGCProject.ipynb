{
  "nbformat": 4,
  "nbformat_minor": 0,
  "metadata": {
    "colab": {
      "provenance": [],
      "toc_visible": true
    },
    "kernelspec": {
      "name": "python3",
      "display_name": "Python 3"
    },
    "language_info": {
      "name": "python"
    }
  },
  "cells": [
    {
      "cell_type": "code",
      "source": [
        "import sqlite3\n",
        "import random\n",
        "from datetime import datetime, timedelta\n",
        "\n",
        "# connect to SQLite (in-memory)\n",
        "conn = sqlite3.connect(\":memory:\") #use an in-memory database\n",
        "cursor = conn.cursor()\n",
        "\n",
        "#create sales table\n",
        "cursor.execute(\"\"\"\n",
        "CREATE TABLE sales(\n",
        "  transaction_id INTEGER PRIMARY KEY AUTOINCREMENT,\n",
        "  date TEXT,\n",
        "  item TEXT,\n",
        "  quantity INTEGER,\n",
        "  total_sales REAL\n",
        "  )\n",
        "  \"\"\"\n",
        ")\n",
        "# Generate fake data\n",
        "items = ['Bread', 'Croissant', 'Muffin', 'Bagel', 'Cake']\n",
        "start_date = datetime(2022, 1, 1)\n",
        "end_date = datetime(2022, 12, 31)\n",
        "date_range = (end_date - start_date).days\n",
        "\n",
        "for _ in range(1000):  # Generate 1000 transactions\n",
        "    random_date = start_date + timedelta(days=random.randint(0, date_range))\n",
        "    item = random.choice(items)\n",
        "    quantity = random.randint(1, 10)\n",
        "    price_per_item = random.uniform(2.0, 10.0)  # Random price between $2 and $10\n",
        "    total_sales = round(quantity * price_per_item, 2)\n",
        "\n",
        "    cursor.execute(\"INSERT INTO sales (date, item, quantity, total_sales) VALUES (?, ?, ?, ?)\",\n",
        "                   (random_date.strftime('%Y-%m-%d'), item, quantity, total_sales))\n",
        "\n",
        "conn.commit()\n",
        "print(\"Data generated and stored in SQLite!\")\n"
      ],
      "metadata": {
        "colab": {
          "base_uri": "https://localhost:8080/"
        },
        "id": "stc_dgBUTIFl",
        "outputId": "1754e04b-a7ce-4055-852b-7196eb994c8f"
      },
      "execution_count": 1,
      "outputs": [
        {
          "output_type": "stream",
          "name": "stdout",
          "text": [
            "Data generated and stored in SQLite!\n"
          ]
        }
      ]
    },
    {
      "cell_type": "markdown",
      "source": [],
      "metadata": {
        "id": "pe9fU1tdZzBw"
      }
    },
    {
      "cell_type": "markdown",
      "source": [
        "Using Query Data for Analysis\n"
      ],
      "metadata": {
        "id": "ctj7WE65UOdC"
      }
    },
    {
      "cell_type": "code",
      "source": [
        "import pandas as pd\n",
        "\n",
        "#load data into Pandas DataFrame\n",
        "sales_data = pd.read_sql_query(\"SELECT * FROM sales\", conn)\n",
        "\n",
        "# Convert date column to datetime\n",
        "sales_data['date'] = pd.to_datetime(sales_data['date'])\n",
        "sales_data['year'] = sales_data['date'].dt.year\n",
        "print(sales_data.head())"
      ],
      "metadata": {
        "colab": {
          "base_uri": "https://localhost:8080/"
        },
        "id": "Aux1Q-08USz3",
        "outputId": "607faed8-d4e3-43cb-ba5d-812416ecf851"
      },
      "execution_count": 2,
      "outputs": [
        {
          "output_type": "stream",
          "name": "stdout",
          "text": [
            "   transaction_id       date   item  quantity  total_sales  year\n",
            "0               1 2022-03-05  Bread         6        12.62  2022\n",
            "1               2 2022-01-13  Bread         5        10.90  2022\n",
            "2               3 2022-03-19  Bagel         7        22.89  2022\n",
            "3               4 2022-08-25   Cake         8        75.94  2022\n",
            "4               5 2022-07-28  Bread         4        25.69  2022\n"
          ]
        }
      ]
    },
    {
      "cell_type": "code",
      "execution_count": 3,
      "metadata": {
        "colab": {
          "base_uri": "https://localhost:8080/"
        },
        "id": "scYiVp6bH91c",
        "outputId": "f3ff458b-1a9a-44eb-c73f-9c2b855c6f84"
      },
      "outputs": [
        {
          "output_type": "stream",
          "name": "stdout",
          "text": [
            "Year: 2022, Total Sales: $33503.33, HST Owed: $4355.43\n"
          ]
        }
      ],
      "source": [
        "##HST calculation and Tax report\n",
        "\n",
        "#Calculate annual sales and HST\n",
        "def calculate_annual_sales_and_hst(year):\n",
        "  annual_sales = sales_data[sales_data['year'] == year]['total_sales'].sum()\n",
        "  hst_rate = 0.13\n",
        "  if annual_sales > 30000:\n",
        "    hst = annual_sales * hst_rate\n",
        "    return annual_sales, hst\n",
        "  else:\n",
        "    return annual_sales, 0.0\n",
        "\n",
        "    #generate tax report\n",
        "def generate_tax_report(year):\n",
        "  annual_sales, hst = calculate_annual_sales_and_hst(year)\n",
        "  if annual_sales > 30000:\n",
        "    print(f\"Year: {year}, Total Sales: ${annual_sales:.2f}, HST Owed: ${hst:.2f}\")\n",
        "  else:\n",
        "    print(f\"Year: {year}, Total Sales: ${annual_sales:.2f}. No HST required.\")\n",
        "\n",
        "# Example usage\n",
        "generate_tax_report(2022)\n",
        "\n",
        "\n"
      ]
    },
    {
      "cell_type": "code",
      "source": [
        "##Visualization\n",
        "import matplotlib.pyplot as plt\n",
        "\n",
        "#Sales trends visualization\n",
        "def visualize_sales_trend():\n",
        "  monthly_sales_data.groupby(sales_data['date'].dt.month)['total_sales'].sum()\n",
        "  plt.plot(monthly_sales.index, monthly_sales.values, marker='o')\n",
        "  plt.title('Monthly Sales Trends')\n",
        "  plt.xlabel('Month')\n",
        "  plt.ylabel('Total Sales')\n",
        "  plt.grid()\n",
        "  plt.show()\n",
        "\n",
        "  #Example visualization\n",
        "  visualize_sales_trends()\n"
      ],
      "metadata": {
        "id": "JDdT8C6-SFjA"
      },
      "execution_count": 4,
      "outputs": []
    },
    {
      "cell_type": "markdown",
      "source": [],
      "metadata": {
        "id": "lm6LC0O0UyC3"
      }
    },
    {
      "cell_type": "markdown",
      "source": [
        "## Bakery Sales Analysis\n",
        "- **Objective**: Analyze sales data and calculate HST for a bakery shop.\n",
        "- **Tools Used**: Python, SQLite, Pandas, Matplotlib.\n",
        "- **Key Insights**:\n",
        "    *   Total sales for 2022: $33503.33.\n",
        "    *   Monthly trends show peak sales in December.\n",
        "    *   HST owed for 2022: $4355.43.\n",
        "\n",
        "\n"
      ],
      "metadata": {
        "id": "Z_IPcF6NSZfI"
      }
    }
  ]
}